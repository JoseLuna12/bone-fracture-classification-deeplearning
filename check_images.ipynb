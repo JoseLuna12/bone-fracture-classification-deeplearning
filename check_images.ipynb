{
 "cells": [
  {
   "metadata": {
    "ExecuteTime": {
     "end_time": "2024-05-28T15:57:00.000412Z",
     "start_time": "2024-05-28T15:56:59.997171Z"
    }
   },
   "cell_type": "code",
   "source": [
    "# image_folder = \"./LongDiseaseDatasetCovidNormalTuberculosis\"\n",
    "train_dir ='./images/train'\n",
    "validation_dir = './images/val'\n",
    "test_dir = './images/test'"
   ],
   "id": "9439c68a0edea6d3",
   "outputs": [],
   "execution_count": 5
  },
  {
   "metadata": {
    "ExecuteTime": {
     "end_time": "2024-05-28T15:57:03.975068Z",
     "start_time": "2024-05-28T15:57:03.783608Z"
    }
   },
   "cell_type": "code",
   "source": [
    "from keras.utils import image_dataset_from_directory\n",
    "IMG_SIZE = 150\n",
    "BATCH_SIZE = 32\n",
    "train_dataset = image_dataset_from_directory(train_dir, image_size=(IMG_SIZE, IMG_SIZE), batch_size=BATCH_SIZE)\n",
    "validation_dataset = image_dataset_from_directory(validation_dir, image_size=(IMG_SIZE, IMG_SIZE), batch_size=BATCH_SIZE)\n",
    "test_dataset = image_dataset_from_directory(test_dir, image_size=(IMG_SIZE, IMG_SIZE), batch_size=BATCH_SIZE)"
   ],
   "id": "16005a3fdda90f2e",
   "outputs": [
    {
     "name": "stdout",
     "output_type": "stream",
     "text": [
      "Found 3645 files belonging to 3 classes.\n",
      "Found 1214 files belonging to 3 classes.\n",
      "Found 1219 files belonging to 3 classes.\n"
     ]
    }
   ],
   "execution_count": 7
  },
  {
   "metadata": {
    "ExecuteTime": {
     "end_time": "2024-05-28T16:16:11.019609Z",
     "start_time": "2024-05-28T16:16:02.947900Z"
    }
   },
   "cell_type": "code",
   "source": [
    "def image_metadata(dataset):\n",
    "    three_channels = 0\n",
    "    two_channels = 0\n",
    "    try:\n",
    "        for batch in dataset:\n",
    "            images, labels = batch\n",
    "            for img in images:\n",
    "                shape = img.shape\n",
    "                if len(shape) == 3:\n",
    "                    channels = shape[2]\n",
    "                    if channels == 3:\n",
    "                        three_channels = three_channels + 1\n",
    "                    if channels < 2:\n",
    "                        two_channels = two_channels + 1\n",
    "    except tf.errors.OutOfRangeError:\n",
    "        print(f\"Reached the end of the {dataset_name} dataset.\")\n",
    "    except Exception as e:\n",
    "        print(f\"An error occurred: {str(e)}\")\n",
    "\n",
    "    return three_channels, two_channels\n",
    "                \n",
    "\n",
    "train_dataset_metadata =  image_metadata(train_dataset)\n",
    "validation_dataset_metadata = image_metadata(validation_dataset)\n",
    "test_dataset_metadata = image_metadata(test_dataset)\n",
    "\n",
    "print(\"3 canales, otro\")\n",
    "print(train_dataset_metadata)\n",
    "print(validation_dataset_metadata)\n",
    "print(test_dataset_metadata)"
   ],
   "id": "c114a7d7d578981b",
   "outputs": [
    {
     "name": "stderr",
     "output_type": "stream",
     "text": [
      "2024-05-28 17:16:07.930558: W tensorflow/core/framework/local_rendezvous.cc:404] Local rendezvous is aborting with status: OUT_OF_RANGE: End of sequence\n",
      "2024-05-28 17:16:09.471044: W tensorflow/core/framework/local_rendezvous.cc:404] Local rendezvous is aborting with status: OUT_OF_RANGE: End of sequence\n"
     ]
    },
    {
     "name": "stdout",
     "output_type": "stream",
     "text": [
      "3 canales, otro\n",
      "(3645, 0)\n",
      "(1214, 0)\n",
      "(1219, 0)\n"
     ]
    },
    {
     "name": "stderr",
     "output_type": "stream",
     "text": [
      "2024-05-28 17:16:11.017959: W tensorflow/core/framework/local_rendezvous.cc:404] Local rendezvous is aborting with status: OUT_OF_RANGE: End of sequence\n"
     ]
    }
   ],
   "execution_count": 15
  }
 ],
 "metadata": {
  "kernelspec": {
   "display_name": "Python 3",
   "language": "python",
   "name": "python3"
  },
  "language_info": {
   "codemirror_mode": {
    "name": "ipython",
    "version": 2
   },
   "file_extension": ".py",
   "mimetype": "text/x-python",
   "name": "python",
   "nbconvert_exporter": "python",
   "pygments_lexer": "ipython2",
   "version": "2.7.6"
  }
 },
 "nbformat": 4,
 "nbformat_minor": 5
}
