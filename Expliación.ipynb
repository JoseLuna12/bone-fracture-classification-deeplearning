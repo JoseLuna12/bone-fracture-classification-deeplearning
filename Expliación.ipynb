{
 "cells": [
  {
   "cell_type": "markdown",
   "id": "24aa4cd3-e342-4855-a746-d0011b668894",
   "metadata": {},
   "source": [
    "## TOMAR EN CUENTA QUE SOLO PUDE HACER 10 EPOCAS PARA LA COMPARACIÓN, POR ENDE, SI AL APLICAR MAS EPOCAS, UN MODELO SUPERÓ AL ESCOGIDO, ENTONCES HACER LOS RESPECTIVOS CAMBIOS. POR EJEMPLO, SI EN EL DOCUMENTO 2 TENEMOS QUE AL APLICAR 3O O 50 EPOCAS AHORA EL MSE FUE MEJOR QUE EL CATEGORICAL, USAR ESE PARA EL DOCUMENTO 3 EN EL CUAL ENTONCES AHÍ SERÍA MSE CON ADAM PARA LA COMPARACIÓN, Y AHI SICESIVAMENTE HASTA LLEGAR AL DOCUMENTO 5."
   ]
  },
  {
   "cell_type": "markdown",
   "id": "1e0af6c0-b26c-4c3d-8bd6-5851e41c5abe",
   "metadata": {},
   "source": [
    "### Como ya teniamos el modelo entrenado con un loss, optimizador, y regularizador, me puse a hacer cambiando en cada uno ya que nos decia que probemos con dos distintas.\n",
    "\n",
    "### Entonces para que se entienda el orden le puse numeracion a los documentos. Primero esta la original que sacamos, de ahi el numero dos es cambiando el Loss (MSE). Compare con los accuracy y matriz de confusion, y mejor es el primero.\n",
    "\n",
    "### Luego en la 3, como nos quedamos con la primera, se uso esa de nuevo los parametros iniciales pero ahora cambiando el optimizador RMSprop por Adam, la primera sigue siendo mejor. \n",
    "\n",
    "### Avanzamos con la 4 y seguimos basandonos en el primer modelo ya que sigue siendo el mejor y ahora cambiamos de regularizador a L1. De igual forma el primer modelo es el mejor\n",
    "\n",
    "### Como los parametros del primero (Categorical, RMSprop, y Batch Normalization) fueron los mejores, se uso ese modelo para aplicar Data Augmentation (ese seria en el documento numero 5)"
   ]
  },
  {
   "cell_type": "code",
   "execution_count": null,
   "id": "f304c356-5f22-4acd-8d72-7736057981fe",
   "metadata": {},
   "outputs": [],
   "source": []
  }
 ],
 "metadata": {
  "kernelspec": {
   "display_name": "Python 3 (ipykernel)",
   "language": "python",
   "name": "python3"
  },
  "language_info": {
   "codemirror_mode": {
    "name": "ipython",
    "version": 3
   },
   "file_extension": ".py",
   "mimetype": "text/x-python",
   "name": "python",
   "nbconvert_exporter": "python",
   "pygments_lexer": "ipython3",
   "version": "3.11.5"
  }
 },
 "nbformat": 4,
 "nbformat_minor": 5
}
